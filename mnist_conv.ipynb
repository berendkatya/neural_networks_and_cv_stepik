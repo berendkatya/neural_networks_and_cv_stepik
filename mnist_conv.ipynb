{
  "nbformat": 4,
  "nbformat_minor": 0,
  "metadata": {
    "colab": {
      "name": "module05_mnist_conv.ipynb",
      "version": "0.3.2",
      "provenance": [],
      "collapsed_sections": []
    },
    "language_info": {
      "codemirror_mode": {
        "name": "ipython",
        "version": 3
      },
      "file_extension": ".py",
      "mimetype": "text/x-python",
      "name": "python",
      "nbconvert_exporter": "python",
      "pygments_lexer": "ipython3",
      "version": "3.6.6"
    },
    "kernelspec": {
      "display_name": "Python 3",
      "language": "python",
      "name": "python3"
    },
    "accelerator": "GPU"
  },
  "cells": [
    {
      "cell_type": "markdown",
      "metadata": {
        "colab_type": "text",
        "id": "cdjn6pICZMoM"
      },
      "source": [
        "![alt text](https://engmrk.com/wp-content/uploads/2018/09/LeNet_Original_Image.jpg)"
      ]
    },
    {
      "cell_type": "markdown",
      "metadata": {
        "colab_type": "text",
        "id": "14icu4JgZXqM"
      },
      "source": [
        "![alt text](https://engmrk.com/wp-content/uploads/2018/09/LeNEt_Summary_Table.jpg)"
      ]
    },
    {
      "cell_type": "code",
      "metadata": {
        "ExecuteTime": {
          "end_time": "2019-07-04T17:31:51.718052Z",
          "start_time": "2019-07-04T17:31:46.040346Z"
        },
        "colab_type": "code",
        "id": "85_HkTjcNZeg",
        "colab": {}
      },
      "source": [
        "import torch\n",
        "import random\n",
        "import numpy as np\n",
        "%matplotlib inline\n",
        "from IPython import display\n",
        "\n",
        "\n",
        "random.seed(0)\n",
        "np.random.seed(0)\n",
        "torch.manual_seed(0)\n",
        "torch.cuda.manual_seed(0)\n",
        "torch.backends.cudnn.deterministic = True"
      ],
      "execution_count": 0,
      "outputs": []
    },
    {
      "cell_type": "code",
      "metadata": {
        "ExecuteTime": {
          "end_time": "2019-07-04T17:31:52.222966Z",
          "start_time": "2019-07-04T17:31:51.718052Z"
        },
        "colab_type": "code",
        "id": "kjPVw9UfNZel",
        "colab": {}
      },
      "source": [
        "import torchvision.datasets"
      ],
      "execution_count": 0,
      "outputs": []
    },
    {
      "cell_type": "code",
      "metadata": {
        "ExecuteTime": {
          "end_time": "2019-07-04T17:31:52.633357Z",
          "start_time": "2019-07-04T17:31:52.224965Z"
        },
        "colab_type": "code",
        "id": "buWKcUqGNZeo",
        "colab": {}
      },
      "source": [
        "MNIST_train = torchvision.datasets.MNIST('./', download=False, train=True)\n",
        "MNIST_test = torchvision.datasets.MNIST('./', download=False, train=False)"
      ],
      "execution_count": 0,
      "outputs": []
    },
    {
      "cell_type": "code",
      "metadata": {
        "ExecuteTime": {
          "end_time": "2019-07-04T17:31:52.684334Z",
          "start_time": "2019-07-04T17:31:52.634356Z"
        },
        "colab_type": "code",
        "id": "nyrpGOtPNZeq",
        "outputId": "afe9ebef-3374-4fb9-88f7-854e34825c5a",
        "colab": {
          "base_uri": "https://localhost:8080/",
          "height": 151
        }
      },
      "source": [
        "X_train = MNIST_train.train_data\n",
        "y_train = MNIST_train.train_labels\n",
        "X_test = MNIST_test.test_data\n",
        "y_test = MNIST_test.test_labels"
      ],
      "execution_count": 4,
      "outputs": [
        {
          "output_type": "stream",
          "text": [
            "/usr/local/lib/python3.6/dist-packages/torchvision/datasets/mnist.py:53: UserWarning: train_data has been renamed data\n",
            "  warnings.warn(\"train_data has been renamed data\")\n",
            "/usr/local/lib/python3.6/dist-packages/torchvision/datasets/mnist.py:43: UserWarning: train_labels has been renamed targets\n",
            "  warnings.warn(\"train_labels has been renamed targets\")\n",
            "/usr/local/lib/python3.6/dist-packages/torchvision/datasets/mnist.py:58: UserWarning: test_data has been renamed data\n",
            "  warnings.warn(\"test_data has been renamed data\")\n",
            "/usr/local/lib/python3.6/dist-packages/torchvision/datasets/mnist.py:48: UserWarning: test_labels has been renamed targets\n",
            "  warnings.warn(\"test_labels has been renamed targets\")\n"
          ],
          "name": "stderr"
        }
      ]
    },
    {
      "cell_type": "code",
      "metadata": {
        "ExecuteTime": {
          "end_time": "2019-07-04T17:31:52.694327Z",
          "start_time": "2019-07-04T17:31:52.685333Z"
        },
        "colab_type": "code",
        "id": "f_TmOTWdNZet",
        "outputId": "ed3bacbf-e938-47cc-a722-7e69275ca3ff",
        "colab": {
          "base_uri": "https://localhost:8080/",
          "height": 34
        }
      },
      "source": [
        "len(y_train), len(y_test)"
      ],
      "execution_count": 5,
      "outputs": [
        {
          "output_type": "execute_result",
          "data": {
            "text/plain": [
              "(60000, 10000)"
            ]
          },
          "metadata": {
            "tags": []
          },
          "execution_count": 5
        }
      ]
    },
    {
      "cell_type": "code",
      "metadata": {
        "ExecuteTime": {
          "end_time": "2019-07-04T17:31:53.313058Z",
          "start_time": "2019-07-04T17:31:52.696326Z"
        },
        "colab_type": "code",
        "id": "Zd-E4vIpNZe1",
        "outputId": "073be81f-d75a-416d-f7f7-e110ddf86143",
        "colab": {
          "base_uri": "https://localhost:8080/",
          "height": 823
        }
      },
      "source": [
        "import matplotlib.pyplot as plt\n",
        "z = random.randint(0, 60000)\n",
        "for i in range(z, z+3):\n",
        "    plt.imshow(X_train[i, :, :])\n",
        "    plt.show()\n",
        "    print(y_train[i])"
      ],
      "execution_count": 6,
      "outputs": [
        {
          "output_type": "display_data",
          "data": {
            "image/png": "[encoded data removed]",
            "text/plain": [
              "<Figure size 432x288 with 1 Axes>"
            ]
          },
          "metadata": {
            "tags": []
          }
        },
        {
          "output_type": "stream",
          "text": [
            "tensor(4)\n"
          ],
          "name": "stdout"
        },
        {
          "output_type": "display_data",
          "data": {
            "image/png": "[encoded data removed]",
            "text/plain": [
              "<Figure size 432x288 with 1 Axes>"
            ]
          },
          "metadata": {
            "tags": []
          }
        },
        {
          "output_type": "stream",
          "text": [
            "tensor(3)\n"
          ],
          "name": "stdout"
        },
        {
          "output_type": "display_data",
          "data": {
            "image/png": "[encoded data removed]",
            "text/plain": [
              "<Figure size 432x288 with 1 Axes>"
            ]
          },
          "metadata": {
            "tags": []
          }
        },
        {
          "output_type": "stream",
          "text": [
            "tensor(5)\n"
          ],
          "name": "stdout"
        }
      ]
    },
    {
      "cell_type": "code",
      "metadata": {
        "ExecuteTime": {
          "end_time": "2019-07-04T17:31:53.413040Z",
          "start_time": "2019-07-04T17:31:53.316056Z"
        },
        "colab_type": "code",
        "id": "Tf9LiDGuNZe6",
        "colab": {}
      },
      "source": [
        "X_train = X_train.unsqueeze(1).float()\n",
        "X_test = X_test.unsqueeze(1).float()"
      ],
      "execution_count": 0,
      "outputs": []
    },
    {
      "cell_type": "code",
      "metadata": {
        "ExecuteTime": {
          "start_time": "2019-07-04T17:31:45.999Z"
        },
        "colab_type": "code",
        "id": "kxKAhEYHNZe-",
        "outputId": "a21627d3-6174-40e5-be36-1f3b543b9eb5",
        "colab": {
          "base_uri": "https://localhost:8080/",
          "height": 34
        }
      },
      "source": [
        "X_train.shape"
      ],
      "execution_count": 8,
      "outputs": [
        {
          "output_type": "execute_result",
          "data": {
            "text/plain": [
              "torch.Size([60000, 1, 28, 28])"
            ]
          },
          "metadata": {
            "tags": []
          },
          "execution_count": 8
        }
      ]
    },
    {
      "cell_type": "code",
      "metadata": {
        "ExecuteTime": {
          "start_time": "2019-07-04T17:31:46.002Z"
        },
        "colab_type": "code",
        "id": "xhsw9soDODel",
        "colab": {}
      },
      "source": [
        "class LeNet5(torch.nn.Module):\n",
        "    def __init__(self):\n",
        "        super(LeNet5, self).__init__()\n",
        "        \n",
        "        self.conv1 = torch.nn.Conv2d(\n",
        "            in_channels=1, out_channels=16, kernel_size=5, padding=2)\n",
        "        self.act1  = torch.nn.LeakyReLU(inplace = True)\n",
        "        self.pool1 = torch.nn.AvgPool2d(kernel_size=2, stride=2)\n",
        "       \n",
        "        self.conv2 = torch.nn.Conv2d(\n",
        "            in_channels=16, out_channels=36, kernel_size=5, padding=0)\n",
        "        self.act2  = torch.nn.LeakyReLU(inplace = True)\n",
        "        self.pool2 = torch.nn.AvgPool2d(kernel_size=2, stride=2)\n",
        "        \n",
        "        self.fc1   = torch.nn.Linear(5 * 5 * 36, 150)\n",
        "        self.act3  = torch.nn.LeakyReLU(inplace = True)\n",
        "\n",
        "        self.fc2   = torch.nn.BatchNorm1d(150)\n",
        "        self.act4  = torch.nn.Dropout(p = 0.4)\n",
        "        \n",
        "        self.fc3   = torch.nn.Linear(150, 10)\n",
        "        \n",
        "        self.sm = torch.nn.Softmax(dim=1)\n",
        "    \n",
        "    def forward(self, x):\n",
        "        \n",
        "        x = self.conv1(x)\n",
        "        x = self.act1(x)\n",
        "        x = self.pool1(x)\n",
        "        \n",
        "        x = self.conv2(x)\n",
        "        x = self.act2(x)\n",
        "        x = self.pool2(x)\n",
        "        \n",
        "        x = x.view(x.size(0), x.size(1) * x.size(2) * x.size(3))\n",
        "\n",
        "        x = self.fc1(x)\n",
        "#        x = self.act3(x)\n",
        "        \n",
        "        x = self.fc2(x)\n",
        "        x = self.act4(x)\n",
        "        x = self.act3(x)        \n",
        "        x = self.fc3(x)\n",
        "        \n",
        "        return x\n",
        "\n",
        "    def inference(self, x):\n",
        "        x = self.forward(x)\n",
        "        x = self.sm(x)\n",
        "        return x\n",
        "    \n",
        "lenet5 = LeNet5()"
      ],
      "execution_count": 0,
      "outputs": []
    },
    {
      "cell_type": "code",
      "metadata": {
        "ExecuteTime": {
          "start_time": "2019-07-04T17:31:46.004Z"
        },
        "colab_type": "code",
        "id": "qT-PsO7VNZfB",
        "colab": {}
      },
      "source": [
        "device = torch.device('cuda:0' if torch.cuda.is_available() else 'cpu')\n",
        "lenet5 = lenet5.to(device)"
      ],
      "execution_count": 0,
      "outputs": []
    },
    {
      "cell_type": "code",
      "metadata": {
        "ExecuteTime": {
          "start_time": "2019-07-04T17:31:46.006Z"
        },
        "colab_type": "code",
        "id": "rkK0kv1VNZfL",
        "colab": {}
      },
      "source": [
        "loss = torch.nn.CrossEntropyLoss()\n",
        "optimizer = torch.optim.Adam(lenet5.parameters(), lr=2.5e-4)"
      ],
      "execution_count": 0,
      "outputs": []
    },
    {
      "cell_type": "code",
      "metadata": {
        "ExecuteTime": {
          "start_time": "2019-07-04T17:31:46.009Z"
        },
        "colab_type": "code",
        "id": "XfA9gqSdNZfQ",
        "outputId": "287aa190-504a-4d09-b085-c20c40249800",
        "colab": {
          "base_uri": "https://localhost:8080/",
          "height": 404
        }
      },
      "source": [
        "import numpy as np \n",
        "\n",
        "batch_size = 200\n",
        "test_accuracy_history = []\n",
        "test_loss_history = []\n",
        "train_loss_history = []\n",
        "X_test = X_test.to(device)\n",
        "y_test = y_test.to(device)\n",
        "\n",
        "X_train = X_train.to(device)\n",
        "y_train = y_train.to(device)\n",
        "for epoch in range(25):\n",
        "    order = np.random.permutation(len(X_train))\n",
        "    for start_index in range(0, len(X_train), batch_size):\n",
        "        optimizer.zero_grad()\n",
        "        \n",
        "        batch_indexes = order[start_index:start_index+batch_size]\n",
        "        \n",
        "        X_batch = X_train[batch_indexes]#.to(device)\n",
        "        y_batch = y_train[batch_indexes]#.to(device)\n",
        "        \n",
        "        preds = lenet5.forward(X_batch) \n",
        "        \n",
        "        loss_value = loss(preds, y_batch)\n",
        "        loss_value.backward()\n",
        "        optimizer.step()\n",
        "\n",
        "    test_preds = lenet5.forward(X_test)\n",
        "    test_loss_history.append(loss(test_preds, y_test).data.cpu())\n",
        "\n",
        "    train_preds = lenet5.forward(X_train)\n",
        "    train_loss_history.append(loss(train_preds, y_train).data.cpu())\n",
        "    \n",
        "    accuracy = (test_preds.argmax(dim=1) == y_test).float().mean().data.cpu()\n",
        "    test_accuracy_history.append(accuracy)\n",
        "    \n",
        "    display.clear_output(wait=True)\n",
        "    plt.figure(figsize=(12, 6))        \n",
        "    plt.title(\"Train and Test loss\")\n",
        "    plt.xlabel(\"#iteration\")\n",
        "    plt.ylabel(\"loss\")\n",
        "    plt.plot(train_loss_history, 'b', color = 'darkblue', label=\"train\")\n",
        "    plt.plot(test_loss_history, 'b', color = 'darkgreen', label=\"test\")\n",
        "    plt.legend(bbox_to_anchor=(0.9, 0.88), loc=3, borderaxespad=0.)\n",
        "    plt.show()"
      ],
      "execution_count": 12,
      "outputs": [
        {
          "output_type": "display_data",
          "data": {
            "image/png": "[encoded data removed]",
            "text/plain": [
              "<Figure size 864x432 with 1 Axes>"
            ]
          },
          "metadata": {
            "tags": []
          }
        }
      ]
    },
    {
      "cell_type": "code",
      "metadata": {
        "ExecuteTime": {
          "start_time": "2019-07-04T17:31:46.011Z"
        },
        "colab_type": "code",
        "id": "4FDtagQvNZfU",
        "colab": {
          "base_uri": "https://localhost:8080/",
          "height": 521
        },
        "outputId": "fac3b18f-2dcd-4b5c-f8b0-d552df8ae67d"
      },
      "source": [
        "plt.plot(test_accuracy_history, 'b', color = 'darkgreen')\n",
        "plt.show()\n",
        "plt.plot(test_loss_history, 'b', color = 'darkgreen')\n",
        "plt.show()"
      ],
      "execution_count": 13,
      "outputs": [
        {
          "output_type": "display_data",
          "data": {
            "image/png": "[encoded data removed]",
            "text/plain": [
              "<Figure size 432x288 with 1 Axes>"
            ]
          },
          "metadata": {
            "tags": []
          }
        },
        {
          "output_type": "display_data",
          "data": {
            "image/png": "[encoded data removed]",
            "text/plain": [
              "<Figure size 432x288 with 1 Axes>"
            ]
          },
          "metadata": {
            "tags": []
          }
        }
      ]
    },
    {
      "cell_type": "code",
      "metadata": {
        "id": "4TMBzVcyD9D1",
        "colab_type": "code",
        "colab": {
          "base_uri": "https://localhost:8080/",
          "height": 34
        },
        "outputId": "fec5c956-815a-4bf9-8e39-7a0875aed7e9"
      },
      "source": [
        "test_preds = lenet5.inference(X_test)\n",
        "(test_preds.argmax(dim=1) == y_test).float().mean().data.cpu()"
      ],
      "execution_count": 14,
      "outputs": [
        {
          "output_type": "execute_result",
          "data": {
            "text/plain": [
              "tensor(0.9922)"
            ]
          },
          "metadata": {
            "tags": []
          },
          "execution_count": 14
        }
      ]
    },
    {
      "cell_type": "code",
      "metadata": {
        "id": "k3_XAmSQZ2Jg",
        "colab_type": "code",
        "colab": {}
      },
      "source": [
        ""
      ],
      "execution_count": 0,
      "outputs": []
    }
  ]
}
